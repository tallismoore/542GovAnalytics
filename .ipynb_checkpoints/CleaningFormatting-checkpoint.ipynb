{
 "cells": [
  {
   "cell_type": "markdown",
   "metadata": {},
   "source": [
    "<center><img src=\"http://i.imgur.com/sSaOozN.png\" width=\"500\"></center>"
   ]
  },
  {
   "cell_type": "markdown",
   "metadata": {},
   "source": [
    "## Course: Computational Thinking for Governance Analytics\n",
    "\n",
    "### Prof. José Manuel Magallanes, PhD \n",
    "* Visiting Professor of Computational Policy at Evans School of Public Policy and Governance, and eScience Institute Senior Data Science Fellow, University of Washington.\n",
    "* Professor of Government and Political Methodology, Pontificia Universidad Católica del Perú. \n",
    "\n",
    "_____\n",
    "\n",
    "# Session 2:  Data Cleaning and Formatting in Python\n",
    "<a id='beginning'></a>"
   ]
  },
  {
   "cell_type": "markdown",
   "metadata": {},
   "source": [
    "Having collected the data does not always allow you to produce some analytics right away. There is often a lot of pre processing to be done, especially if the data comes from scrapping. \n",
    "\n",
    "This session is about:\n",
    "\n",
    "* Cleaning: making sure each cell has a value that could be used in your coming procedures. The _impurities_ do not allow formatting the data correctly, such as the presence of commas instead of points and viceversa, blanks/spaces, unneeded symbols (dollar, euro symbols), non-standard symbols to represent missing values, and so on.\n",
    "\n",
    "* Fomatting: making sure that the clean values are in the right data type. if you are going to do text analysis, you may need to get rid of repetitive words, normalize them into lower case, and turn them back to their root or stem. For statistical work, you need to differentiate among nominal, ordinal, numerical and strings.\n",
    "\n",
    "Let me use the next table with information on **Democracy and its components** by country. Take a look:"
   ]
  },
  {
   "cell_type": "code",
   "execution_count": 1,
   "metadata": {},
   "outputs": [
    {
     "data": {
      "text/html": [
       "\n",
       "        <iframe\n",
       "            width=\"900\"\n",
       "            height=\"500\"\n",
       "            src=\"https://en.wikipedia.org/wiki/Democracy_Index#Components\"\n",
       "            frameborder=\"0\"\n",
       "            allowfullscreen\n",
       "            \n",
       "        ></iframe>\n",
       "        "
      ],
      "text/plain": [
       "<IPython.lib.display.IFrame at 0x150826b6880>"
      ]
     },
     "execution_count": 1,
     "metadata": {},
     "output_type": "execute_result"
    }
   ],
   "source": [
    "from IPython.display import IFrame  \n",
    "wikiLink=\"https://en.wikipedia.org/wiki/Democracy_Index#Components\" \n",
    "IFrame(wikiLink, width=900, height=500)"
   ]
  },
  {
   "cell_type": "markdown",
   "metadata": {},
   "source": [
    "You should always see the table to start guessing what should be source of problems; and, of course, have a general understanding what the data is about. In this case you can see:\n",
    "\n",
    "1. An _score_ of democracy is offered for the participant countries.\n",
    "2. Four _levels_ of democracy are offered for the participant countries.\n",
    "3. The _score_ of democracy is computed from other variables"
   ]
  },
  {
   "cell_type": "markdown",
   "metadata": {},
   "source": [
    "Let's use pandas to get that table as a data frame (**DF**):"
   ]
  },
  {
   "cell_type": "code",
   "execution_count": null,
   "metadata": {},
   "outputs": [],
   "source": [
    "import pandas as pd\n",
    "\n",
    "wikiTables=pd.read_html(wikiLink, # link\n",
    "                        header=0, # where is the header?\n",
    "                        flavor='bs4', # helper to translate html\n",
    "                        attrs={'class': 'wikitable sortable'}) # attributes to identify element(s)"
   ]
  },
  {
   "cell_type": "markdown",
   "metadata": {},
   "source": [
    "Remember the object **wikiTables** is a list. I know before hand that our DF is the third one:"
   ]
  },
  {
   "cell_type": "code",
   "execution_count": null,
   "metadata": {},
   "outputs": [],
   "source": [
    "wikiTables[2]"
   ]
  },
  {
   "cell_type": "markdown",
   "metadata": {},
   "source": [
    "Pandas will show you the _head_ and the _tail_ of the DF. There you can verify if what pandas scrapped is what you expected. \n",
    "\n",
    "Let's create a copy of that DF:"
   ]
  },
  {
   "cell_type": "code",
   "execution_count": null,
   "metadata": {},
   "outputs": [],
   "source": [
    "DFwiki=wikiTables[2].copy()"
   ]
  },
  {
   "cell_type": "markdown",
   "metadata": {},
   "source": [
    "# I. Cleaning\n",
    "\n",
    "1. Keep columns needed"
   ]
  },
  {
   "cell_type": "code",
   "execution_count": null,
   "metadata": {},
   "outputs": [],
   "source": [
    "# columns present - add .to_list()\n",
    "DFwiki.columns"
   ]
  },
  {
   "cell_type": "code",
   "execution_count": null,
   "metadata": {},
   "outputs": [],
   "source": [
    "# dropping 1st, 2nd and 6th column\n",
    "bye=[0,1,5]\n",
    "DFwiki.drop(columns=DFwiki.columns[bye],inplace=True)#inplace!!\n",
    "DFwiki"
   ]
  },
  {
   "cell_type": "markdown",
   "metadata": {},
   "source": [
    "2. Check column names"
   ]
  },
  {
   "cell_type": "code",
   "execution_count": null,
   "metadata": {},
   "outputs": [],
   "source": [
    "# add '.to_list()' to see beyond!\n",
    "DFwiki.columns.to_list()"
   ]
  },
  {
   "cell_type": "markdown",
   "metadata": {},
   "source": [
    "Pandas accepts 'special string patterns' or regular expressiones (aka **Regex**). You should take advantage of that. For example, **\\w** means every character from A-Z (or lower case) and  from 0-9. Let me use the opposite **\\W** in the function [str.replace](https://pandas.pydata.org/docs/reference/api/pandas.Series.str.replace.html) from Pandas:"
   ]
  },
  {
   "cell_type": "code",
   "execution_count": null,
   "metadata": {},
   "outputs": [],
   "source": [
    "DFwiki.columns.str.replace(pat=\"\\W\",# the string to replace\n",
    "                           repl=\"\", # the value to replace with\n",
    "                           regex=True) # is 'pat' above a regex?"
   ]
  },
  {
   "cell_type": "code",
   "execution_count": null,
   "metadata": {},
   "outputs": [],
   "source": [
    "#let's check with .to_list()\n",
    "DFwiki.columns.str.replace(\"\\W\",\"\",regex=True).to_list()"
   ]
  },
  {
   "cell_type": "markdown",
   "metadata": {},
   "source": [
    "Now you can alter the column names:"
   ]
  },
  {
   "cell_type": "code",
   "execution_count": null,
   "metadata": {},
   "outputs": [],
   "source": [
    "DFwiki.columns=DFwiki.columns.str.replace(\"\\W\",\"\",regex=True).to_list()"
   ]
  },
  {
   "cell_type": "markdown",
   "metadata": {},
   "source": [
    "In this stage, **\\W** got rid of _spaces_ and other non standard characters (did you see the dash in the web page?).\n",
    "\n",
    "Notice:\n",
    "\n",
    "* Some column names may be shortened. What changes would you make? Do you like what [pandas](https://pandas.pydata.org/docs/reference/api/pandas.Series.str.slice.html) offer?"
   ]
  },
  {
   "cell_type": "markdown",
   "metadata": {},
   "source": [
    "3. Check columns with strings as cells:"
   ]
  },
  {
   "cell_type": "code",
   "execution_count": null,
   "metadata": {},
   "outputs": [],
   "source": [
    "# for example\n",
    "DFwiki.iloc[:,:2]"
   ]
  },
  {
   "cell_type": "markdown",
   "metadata": {},
   "source": [
    "In general, you need to check that they do not have leading nor trailing spaces:"
   ]
  },
  {
   "cell_type": "code",
   "execution_count": null,
   "metadata": {},
   "outputs": [],
   "source": [
    "# basic Python (no pandas)\n",
    "\" Peru \".strip()"
   ]
  },
  {
   "cell_type": "markdown",
   "metadata": {},
   "source": [
    "The basic Python generally will be useful, but let's keep learning what Pandas offers:"
   ]
  },
  {
   "cell_type": "code",
   "execution_count": null,
   "metadata": {},
   "outputs": [],
   "source": [
    "DFwiki.Country.str.strip()"
   ]
  },
  {
   "cell_type": "markdown",
   "metadata": {},
   "source": [
    "However, the scope of this function is the column (the series) and it can only be applied on one column at a time. That is,  you have to use it as many  times as there are columns in your data. "
   ]
  },
  {
   "cell_type": "code",
   "execution_count": null,
   "metadata": {},
   "outputs": [],
   "source": [
    "# this will not work:\n",
    "\n",
    "# DFwiki.iloc[:,:2].str.strip()"
   ]
  },
  {
   "cell_type": "markdown",
   "metadata": {},
   "source": [
    "Fortunately, there is a way to **apply** that function to several columns:"
   ]
  },
  {
   "cell_type": "code",
   "execution_count": null,
   "metadata": {},
   "outputs": [],
   "source": [
    "# create function for multiple use:\n",
    "stripSeveral=lambda x: x.str.strip() # x is a will be a series\n",
    "\n",
    "#apply function just created\n",
    "DFwiki.iloc[:,:2].apply(stripSeveral)"
   ]
  },
  {
   "cell_type": "markdown",
   "metadata": {},
   "source": [
    "You can make the changes:"
   ]
  },
  {
   "cell_type": "code",
   "execution_count": null,
   "metadata": {},
   "outputs": [],
   "source": [
    "# let's actually make the changes!\n",
    "DFwiki.iloc[:,:2]=DFwiki.iloc[:,:2].apply(stripSeveral)"
   ]
  },
  {
   "cell_type": "markdown",
   "metadata": {},
   "source": [
    "4. Check levels of Categorical variables"
   ]
  },
  {
   "cell_type": "code",
   "execution_count": null,
   "metadata": {},
   "outputs": [],
   "source": [
    "# this is one categorical variable\n",
    "DFwiki.iloc[:,1]"
   ]
  },
  {
   "cell_type": "markdown",
   "metadata": {},
   "source": [
    "You should always prepare a **frequency table** to detect possible errors:"
   ]
  },
  {
   "cell_type": "code",
   "execution_count": null,
   "metadata": {},
   "outputs": [],
   "source": [
    "DFwiki.Regimetype.value_counts()"
   ]
  },
  {
   "cell_type": "markdown",
   "metadata": {},
   "source": [
    "Notice the similar values that only have one count. Those are not levels. If you visit the webpage you will see they are labels of sections in the table. \n",
    "\n",
    "Let's go step by step:"
   ]
  },
  {
   "cell_type": "code",
   "execution_count": null,
   "metadata": {},
   "outputs": [],
   "source": [
    "# save the frequency table:\n",
    "tableCounts=DFwiki.Regimetype.value_counts()\n",
    "tableCounts"
   ]
  },
  {
   "cell_type": "code",
   "execution_count": null,
   "metadata": {},
   "outputs": [],
   "source": [
    "# check the ONE counts\n",
    "tableCounts[tableCounts==1]"
   ]
  },
  {
   "cell_type": "code",
   "execution_count": null,
   "metadata": {},
   "outputs": [],
   "source": [
    "# keep the names of the rows as a list (indexes as list)\n",
    "badLevels=tableCounts[tableCounts==1].index.to_list()\n",
    "badLevels"
   ]
  },
  {
   "cell_type": "markdown",
   "metadata": {},
   "source": [
    "Let's erase the rows with those values from the data:"
   ]
  },
  {
   "cell_type": "code",
   "execution_count": null,
   "metadata": {},
   "outputs": [],
   "source": [
    "# are these wrong?\n",
    "DFwiki[DFwiki.Regimetype.isin(badLevels)]"
   ]
  },
  {
   "cell_type": "markdown",
   "metadata": {},
   "source": [
    "Then, we are good without them:"
   ]
  },
  {
   "cell_type": "code",
   "execution_count": null,
   "metadata": {},
   "outputs": [],
   "source": [
    "DFwiki=DFwiki[~DFwiki.Regimetype.isin(badLevels)]\n",
    "DFwiki"
   ]
  },
  {
   "cell_type": "markdown",
   "metadata": {},
   "source": [
    "Notice that the amount of rows reported does not correlate with the number or rows seen. This always happens when you delete rows, because the row index does not update automatically. So, you will need to reset the indexes:"
   ]
  },
  {
   "cell_type": "code",
   "execution_count": null,
   "metadata": {},
   "outputs": [],
   "source": [
    "DFwiki.reset_index()"
   ]
  },
  {
   "cell_type": "markdown",
   "metadata": {},
   "source": [
    "Resetting the index shows the previous behavior by default, that is, it keeps the old index. In general, you do not want that, so you use the [function](https://pandas.pydata.org/docs/reference/api/pandas.DataFrame.reset_index.html) this way:"
   ]
  },
  {
   "cell_type": "code",
   "execution_count": null,
   "metadata": {},
   "outputs": [],
   "source": [
    "DFwiki.reset_index(drop=True, inplace=True)\n",
    "#\n",
    "DFwiki"
   ]
  },
  {
   "cell_type": "markdown",
   "metadata": {},
   "source": [
    "# II. Formatting\n",
    "\n",
    "\n",
    "1. Check the data types\n",
    "\n",
    "First, see what data types have been assigned by Python to each column:"
   ]
  },
  {
   "cell_type": "code",
   "execution_count": null,
   "metadata": {},
   "outputs": [],
   "source": [
    "DFwiki.info()"
   ]
  },
  {
   "cell_type": "markdown",
   "metadata": {},
   "source": [
    "You can pay attention to text case here, mainly for the column names:\n",
    "\n",
    "* [Lower case](https://pandas.pydata.org/docs/reference/api/pandas.Series.str.lower.html):"
   ]
  },
  {
   "cell_type": "code",
   "execution_count": null,
   "metadata": {},
   "outputs": [],
   "source": [
    "DFwiki.columns.str.lower()"
   ]
  },
  {
   "cell_type": "markdown",
   "metadata": {},
   "source": [
    "* Upper case"
   ]
  },
  {
   "cell_type": "code",
   "execution_count": null,
   "metadata": {},
   "outputs": [],
   "source": [
    "DFwiki.columns.str.upper()"
   ]
  },
  {
   "cell_type": "markdown",
   "metadata": {},
   "source": [
    "You also have options like [str.capitalize](https://pandas.pydata.org/docs/reference/api/pandas.Series.str.capitalize.html) and [str.title](https://pandas.pydata.org/docs/reference/api/pandas.Series.str.title.html)."
   ]
  },
  {
   "cell_type": "markdown",
   "metadata": {},
   "source": [
    "Notice  from the **info()** that all your data types (_Dtypes_) are of the **object** kind. If the columns have texts, Python will say it is an **object**. That is OK for _Country_, but not for the others. _Regimetype_ is a **category**, and all the other columns are **numeric** values. Let's work on that:\n",
    "\n",
    "2. Text to categorical\n",
    "\n"
   ]
  },
  {
   "cell_type": "code",
   "execution_count": null,
   "metadata": {},
   "outputs": [],
   "source": [
    "# this column is clean...\n",
    "DFwiki.Regimetype.value_counts()"
   ]
  },
  {
   "cell_type": "code",
   "execution_count": null,
   "metadata": {},
   "outputs": [],
   "source": [
    "# but NOT formatted:\n",
    "DFwiki.Regimetype.dtype"
   ]
  },
  {
   "cell_type": "markdown",
   "metadata": {},
   "source": [
    "In the cleaning process we got rid of the wrong levels, now we need to set the right data type:"
   ]
  },
  {
   "cell_type": "code",
   "execution_count": null,
   "metadata": {},
   "outputs": [],
   "source": [
    "# import function for the categories to be set:\n",
    "from pandas.api.types import CategoricalDtype\n",
    "\n",
    "# prepare list order of levels (ascending when ordinal)\n",
    "regimeLevels=[\"Authoritarian\", \"Hybrid regime\",\"Flawed democracy\", \"Full democracy\"]\n",
    "\n",
    "# create custom data type\n",
    "regimeOrdered = CategoricalDtype(categories=regimeLevels, ordered=True)\n",
    "\n",
    "# set the Dtype of the column (one column):\n",
    "DFwiki['Regimetype']=DFwiki.Regimetype.astype(regimeOrdered)"
   ]
  },
  {
   "cell_type": "markdown",
   "metadata": {},
   "source": [
    "See the changes:"
   ]
  },
  {
   "cell_type": "code",
   "execution_count": null,
   "metadata": {},
   "outputs": [],
   "source": [
    "DFwiki.Regimetype.dtype"
   ]
  },
  {
   "cell_type": "markdown",
   "metadata": {},
   "source": [
    "3. Numbers that need to be numerical type\n",
    "\n",
    "This is simple with [to_numeric](https://pandas.pydata.org/docs/reference/api/pandas.to_numeric.html) from pandas. See how it works:\n"
   ]
  },
  {
   "cell_type": "code",
   "execution_count": null,
   "metadata": {},
   "outputs": [],
   "source": [
    "#current dtype:\n",
    "DFwiki.Overallscore.dtype"
   ]
  },
  {
   "cell_type": "code",
   "execution_count": null,
   "metadata": {},
   "outputs": [],
   "source": [
    "#formatting ONE column:\n",
    "pd.to_numeric(DFwiki.Overallscore,errors='coerce')"
   ]
  },
  {
   "cell_type": "markdown",
   "metadata": {},
   "source": [
    "However, that functions can not be applied to a set columns, but one column at a time."
   ]
  },
  {
   "cell_type": "code",
   "execution_count": null,
   "metadata": {},
   "outputs": [],
   "source": [
    "# this will not work:\n",
    "# pd.to_numeric(DFwiki.iloc[:,2:])"
   ]
  },
  {
   "cell_type": "markdown",
   "metadata": {},
   "source": [
    "I showed you before how to _apply_ a function to several columns. Let me use that again:"
   ]
  },
  {
   "cell_type": "markdown",
   "metadata": {},
   "source": [
    "Let's follow the last strategy:"
   ]
  },
  {
   "cell_type": "code",
   "execution_count": null,
   "metadata": {},
   "outputs": [],
   "source": [
    "# customize function\n",
    "severalToNum=lambda x:pd.to_numeric(x,errors='coerce')\n",
    "#pd.to_numeric,\n",
    "#apply function:\n",
    "\n",
    "where=DFwiki.columns[2:]\n",
    "\n",
    "DFwiki.loc[:,where]=DFwiki.loc[:,where].apply(severalToNum)"
   ]
  },
  {
   "cell_type": "code",
   "execution_count": null,
   "metadata": {},
   "outputs": [],
   "source": [
    "# result\n",
    "\n",
    "DFwiki.info()"
   ]
  },
  {
   "cell_type": "markdown",
   "metadata": {},
   "source": [
    "The DF now has the right data types. \n",
    "\n",
    "At this stage, it would be a good idea to save this work locally in a file:"
   ]
  },
  {
   "cell_type": "code",
   "execution_count": null,
   "metadata": {},
   "outputs": [],
   "source": [
    "# two options\n",
    "DFwiki.to_csv(\"demoindex.csv\",index=False)\n",
    "DFwiki.to_pickle(\"demoindex.pkl\")"
   ]
  },
  {
   "cell_type": "markdown",
   "metadata": {},
   "source": [
    "CSV files are very common, but let me show a disadvantage:"
   ]
  },
  {
   "cell_type": "code",
   "execution_count": null,
   "metadata": {},
   "outputs": [],
   "source": [
    "democsv=pd.read_csv('demoindex.csv')\n",
    "# see Dtypes:\n",
    "democsv.info()"
   ]
  },
  {
   "cell_type": "markdown",
   "metadata": {},
   "source": [
    "Compare it to the pickle version:"
   ]
  },
  {
   "cell_type": "code",
   "execution_count": null,
   "metadata": {},
   "outputs": [],
   "source": [
    "demopkl=pd.read_pickle('demoindex.pkl')\n",
    "#\n",
    "demopkl.info()"
   ]
  }
 ],
 "metadata": {
  "anaconda-cloud": {
   "attach-environment": true,
   "summary": "test"
  },
  "hide_input": false,
  "kernelspec": {
   "display_name": "Python 3 (ipykernel)",
   "language": "python",
   "name": "python3"
  },
  "language_info": {
   "codemirror_mode": {
    "name": "ipython",
    "version": 3
   },
   "file_extension": ".py",
   "mimetype": "text/x-python",
   "name": "python",
   "nbconvert_exporter": "python",
   "pygments_lexer": "ipython3",
   "version": "3.9.15"
  },
  "toc-autonumbering": false
 },
 "nbformat": 4,
 "nbformat_minor": 4
}
