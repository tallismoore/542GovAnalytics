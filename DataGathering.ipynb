{
 "cells": [
  {
   "cell_type": "markdown",
   "metadata": {},
   "source": [
    "<center><img src=\"http://i.imgur.com/sSaOozN.png\" width=\"500\"></center>"
   ]
  },
  {
   "cell_type": "markdown",
   "metadata": {},
   "source": [
    "## Course: Computational Thinking for Governance Analytics\n",
    "\n",
    "### Prof. José Manuel Magallanes, PhD \n",
    "* Visiting Professor of Computational Policy at Evans School of Public Policy and Governance, and eScience Institute Senior Data Science Fellow, University of Washington.\n",
    "* Professor of Government and Political Methodology, Pontificia Universidad Católica del Perú. \n",
    "\n",
    "_____\n",
    "<a id='home'></a>\n",
    "\n",
    "# Data collecting"
   ]
  },
  {
   "cell_type": "markdown",
   "metadata": {},
   "source": [
    "1. [The GitHub Repo](#part1) \n",
    "2. [Uploading files](#part2)\n",
    "3. [APIs](#part3) \n",
    "4. [Scraping](#part4) \n",
    "5. [Social media](#part5) "
   ]
  },
  {
   "cell_type": "markdown",
   "metadata": {},
   "source": [
    "____\n",
    "<a id='part1'></a>\n",
    "\n",
    "## 1. The GitHub Repo\n",
    "\n",
    "**Where is the Data?**\n",
    "**Where is the Code?**\n",
    "\n",
    "We use GitHub as a way to organize our work. It helps transforming the way you can store and access your code and data outside your local machine: an easy way of experiencing the cloud. \n",
    "\n",
    "You should have a GitHub account and the GitHub desktop version already installed. If not, do so now and then continue with these steps:\n",
    "\n",
    "1. Once you are signed into GitHub web, create a _repository_. Choose a name for your repo. **DO NOT forget** to select the option to add a READ ME file, choose a **LICENSE** too.\n",
    "2. **Clone** the repository just created into your computer. You can select where to clone the repository, avoid cloning the repo into a folder from another app (i.e. Dropbox).\n",
    "\n",
    "\n",
    "Next, let's open the data file that you find [here](https://drive.google.com/drive/folders/1uH6S-8rns8THDnBRCy3OGLEki9LjyTCL?usp=sharing). Once you open the file, you will see something like this:\n"
   ]
  },
  {
   "cell_type": "code",
   "execution_count": null,
   "metadata": {},
   "outputs": [],
   "source": [
    "from IPython.display import IFrame  \n",
    "wikiLink=\"https://docs.google.com/spreadsheets/d/e/2PACX-1vRXdVAxZTnQ6N7bI1xJ_XRQSoG-FsiucGI_fsyBuKCi6TcO3guGB_-6nk4i6so7SG__eIpfS0o8pUuZ/pubhtml?widget=true&amp;headers=false\" \n",
    "IFrame(wikiLink, width=700, height=300)"
   ]
  },
  {
   "cell_type": "markdown",
   "metadata": {},
   "source": [
    "Understanding what you see is not straightforward:\n",
    "\n",
    "* What does these data represent?\n",
    "* What does each column represent?\n",
    "* What possible mistakes can appear in the data values?\n",
    "* What variables will be useful for my hypotheses and goals?\n",
    "\n",
    "If this is the first time you run into a data set like this, you first need to **read** the documentation of the data (available in the same link above).\n",
    "\n",
    "At this stage, you can download these data from GoogleDocs into the folder cloned from GitHub (now in your local machine). Download it first as a CSV file. \n",
    "\n",
    "Now, open GitHub Desktop App. You will see that the app is telling you some changes have ocurred in your local files (in the cloned repository from GitHub). Now, let's **Commit** and **Push**, that will syncronize contents in your local repo and your cloud repo.\n",
    "\n",
    "In *my own* repo, it looks like [this](https://github.com/EvansDataScience/data/blob/master/HSBfromGoogle.csv).\n",
    "\n",
    "GitHub allows you to see the data content (it is not always possible). Now, find the icon **raw** and copy its link address (**do not** copy the URL of the page). This is mine:\n",
    "\n",
    "https://github.com/EvansDataScience/data/blob/master/HSBfromGoogle.csv\n",
    "\n",
    "Now let's get ready for Python.\n",
    "\n",
    "[home](#home)"
   ]
  },
  {
   "cell_type": "markdown",
   "metadata": {},
   "source": [
    "____\n",
    "<a id='part2'></a>\n",
    "\n",
    "## 2. Uploading files"
   ]
  },
  {
   "cell_type": "markdown",
   "metadata": {},
   "source": [
    "The file we are planing to read into Python is a data table. Python needs support from one of its libraries to deal with data tables: **PANDAS**\n",
    "\n",
    "* Check if you already have Pandas.\n",
    "* If you do not have it, install it."
   ]
  },
  {
   "cell_type": "code",
   "execution_count": null,
   "metadata": {},
   "outputs": [],
   "source": [
    "# do I have it?\n",
    "!pip show pandas"
   ]
  },
  {
   "cell_type": "code",
   "execution_count": null,
   "metadata": {},
   "outputs": [],
   "source": [
    "# if you do not have it:\n",
    "#!pip install pandas"
   ]
  },
  {
   "cell_type": "markdown",
   "metadata": {},
   "source": [
    "Now that you have *Pandas*, you can read in the data:"
   ]
  },
  {
   "cell_type": "code",
   "execution_count": null,
   "metadata": {},
   "outputs": [],
   "source": [
    "# call pandas\n",
    "import pandas as pd # 'pd' is a nickname\n",
    "\n",
    "# use a function from pandas to read the cloud data into a Python object\n",
    "gitCloudRepo='https://github.com/EvansDataScience/data/raw/master/'\n",
    "fileName=\"HSBfromGoogle.csv\"\n",
    "\n",
    "DFcsv=pd.read_csv(gitCloudRepo + fileName)"
   ]
  },
  {
   "cell_type": "markdown",
   "metadata": {},
   "source": [
    "If Python has not **complained**, that is, you got no error messages, then, you are good to continue!\n",
    "\n",
    "The **DFcsv** Python object holds the data:"
   ]
  },
  {
   "cell_type": "code",
   "execution_count": null,
   "metadata": {},
   "outputs": [],
   "source": [
    "DFcsv"
   ]
  },
  {
   "cell_type": "markdown",
   "metadata": {},
   "source": [
    "This object is of a particular type:"
   ]
  },
  {
   "cell_type": "code",
   "execution_count": null,
   "metadata": {},
   "outputs": [],
   "source": [
    "type(DFcsv)"
   ]
  },
  {
   "cell_type": "markdown",
   "metadata": {},
   "source": [
    "The type is **Data Frame** (DF). Several functions can be applied to DFs. Let me show you some basic ones."
   ]
  },
  {
   "cell_type": "code",
   "execution_count": null,
   "metadata": {},
   "outputs": [],
   "source": [
    "# dimensions (rows,columns)\n",
    "DFcsv.shape"
   ]
  },
  {
   "cell_type": "code",
   "execution_count": null,
   "metadata": {},
   "outputs": [],
   "source": [
    "# top / bottom\n",
    "DFcsv.head(10) #tail()"
   ]
  },
  {
   "cell_type": "code",
   "execution_count": null,
   "metadata": {},
   "outputs": [],
   "source": [
    "# column names\n",
    "DFcsv.columns"
   ]
  },
  {
   "cell_type": "code",
   "execution_count": null,
   "metadata": {},
   "outputs": [],
   "source": [
    "# access by column index\n",
    "DFcsv.iloc[:,4]"
   ]
  },
  {
   "cell_type": "code",
   "execution_count": null,
   "metadata": {},
   "outputs": [],
   "source": [
    "# access by column name\n",
    "DFcsv.loc[:,'sctyp']"
   ]
  },
  {
   "cell_type": "code",
   "execution_count": null,
   "metadata": {},
   "outputs": [],
   "source": [
    "# subdata frame\n",
    "DFcsv[['sctyp']]"
   ]
  },
  {
   "cell_type": "markdown",
   "metadata": {},
   "source": [
    "And the most important for future sessions:"
   ]
  },
  {
   "cell_type": "code",
   "execution_count": null,
   "metadata": {},
   "outputs": [],
   "source": [
    "DFcsv.info() # the data types Python has assigned"
   ]
  },
  {
   "cell_type": "markdown",
   "metadata": {},
   "source": [
    "Python will not care about the original data file (CSV, EXCEL. etc.), once they are read into Python you will have a DF."
   ]
  },
  {
   "cell_type": "markdown",
   "metadata": {},
   "source": [
    "**Proprietary Sofware**\n",
    "\n",
    "Several times, you may find that you are given a file that was previously prepared with proprietary software. The most common in the policy field are:\n",
    "\n",
    "* SPSS (file extension: **sav**).\n",
    "* STATA (file extension: **dta**).\n",
    "* EXCEL (file extension: **xlsx** or **xls**).\n",
    "\n",
    "Getting these files up and running might not bring much pre processing challenges. However, you may need different levels of effort to read them from **GitHub**: they will not be as easy to open as a CSV.\n",
    "\n",
    "Download [these files](https://drive.google.com/drive/folders/1XxTztY6rFkGwbR7wUtO_xiD4xvBrFqJN?usp=share_link) into the repository where your CSV file is currently stored in your local machine, then commit and push."
   ]
  },
  {
   "cell_type": "markdown",
   "metadata": {},
   "source": [
    "**Exercise:**\n",
    "    \n",
    "Open the other files (excel, spss, stata). \n",
    "\n",
    "**TIPS**\n",
    "\n",
    "Check these functions: \n",
    "* For STATA: https://pandas.pydata.org/pandas-docs/stable/reference/api/pandas.read_stata.html\n",
    "* FOR EXCEL: \n",
    "    - https://pandas.pydata.org/docs/reference/api/pandas.read_excel.html\n",
    "    - https://openpyxl.readthedocs.io/en/stable/\n",
    "    - https://xlrd.readthedocs.io/en/latest/\n",
    "* FOR SPSS:\n",
    "    - https://pandas.pydata.org/docs/reference/api/pandas.read_spss.html\n",
    "    - https://github.com/Roche/pyreadstat\n",
    "\n",
    "Opening SPSS might more challenging.\n",
    "\n",
    "\n",
    "Check if all the functions work well with the DFs created. Verify if the results are the same."
   ]
  },
  {
   "cell_type": "markdown",
   "metadata": {},
   "source": [
    "[home](#home)\n",
    "\n",
    "____\n",
    "\n",
    "<a id='part3'></a>\n",
    "\n",
    "## 3. Collecting data from APIs\n",
    "\n",
    "Open data portals from the government and other organizations have APIs, a service that allows you to collect their data. Let's take a look a Seattle data about [Seattle Real Time Fire 911 Calls](https://data.seattle.gov/Public-Safety/Seattle-Real-Time-Fire-911-Calls/kzjm-xkqj)."
   ]
  },
  {
   "cell_type": "markdown",
   "metadata": {},
   "source": [
    "That page tells you how to get the data into pandas. But first, you need to install **sodapy**. Then you can continue:"
   ]
  },
  {
   "cell_type": "code",
   "execution_count": null,
   "metadata": {},
   "outputs": [],
   "source": [
    "#!pip install sodapy"
   ]
  },
  {
   "cell_type": "markdown",
   "metadata": {},
   "source": [
    "Let's follow some steps, according to the API:"
   ]
  },
  {
   "cell_type": "code",
   "execution_count": null,
   "metadata": {},
   "outputs": [],
   "source": [
    "from sodapy import Socrata\n",
    "\n",
    "# Unauthenticated client (using 'None')\n",
    "\n",
    "client = Socrata(\"data.seattle.gov\", None)\n",
    "\n",
    "# If you have credentials:\n",
    "# client = Socrata(data.seattle.gov,\n",
    "#                  MyAppToken,\n",
    "#                  username=\"user@example.com\",\n",
    "#                  password=\"AFakePassword\")\n",
    "\n",
    "# First 2000 results, returned as JSON from API / converted to Python list of\n",
    "# dictionaries by sodapy.\n",
    "results = client.get(\"kzjm-xkqj\", limit=2000)\n",
    "\n",
    "# Convert to pandas DataFrame\n",
    "results_df = pd.DataFrame.from_records(results)"
   ]
  },
  {
   "cell_type": "markdown",
   "metadata": {},
   "source": [
    "You can see the results now:"
   ]
  },
  {
   "cell_type": "code",
   "execution_count": null,
   "metadata": {},
   "outputs": [],
   "source": [
    "results_df"
   ]
  },
  {
   "cell_type": "markdown",
   "metadata": {},
   "source": [
    "Data from APIs may need some more pre processing than the previous files. Besides, you should study the API documentation to know how to interact with the portal. Not every open data portal behaves the same."
   ]
  },
  {
   "cell_type": "markdown",
   "metadata": {},
   "source": [
    "[home](#home)\n",
    "____\n",
    "<a id='part4'></a>\n",
    "\n",
    "## 4. Scraping"
   ]
  },
  {
   "cell_type": "markdown",
   "metadata": {},
   "source": [
    "Sometimes you are interested in data from the web. Let me get a table from wikipedia:"
   ]
  },
  {
   "cell_type": "code",
   "execution_count": null,
   "metadata": {},
   "outputs": [],
   "source": [
    "from IPython.display import IFrame  \n",
    "wikiLink=\"https://en.wikipedia.org/wiki/Democracy_Index\" \n",
    "IFrame(wikiLink, width=700, height=300)"
   ]
  },
  {
   "cell_type": "markdown",
   "metadata": {},
   "source": [
    "I will use pandas to get the table, but you need to install these libraries first:\n",
    "* html5lib \n",
    "* beautifulsoup4\n",
    "* lxml"
   ]
  },
  {
   "cell_type": "markdown",
   "metadata": {},
   "source": [
    "Let's get the table from Wikipedia now:"
   ]
  },
  {
   "cell_type": "code",
   "execution_count": null,
   "metadata": {},
   "outputs": [],
   "source": [
    "DFwiki=pd.read_html(wikiLink,\n",
    "                    header=0,\n",
    "                    flavor='bs4',\n",
    "                    attrs={'class': 'wikitable'})# very important"
   ]
  },
  {
   "cell_type": "markdown",
   "metadata": {},
   "source": [
    "Pandas has this command **read_html** that will save lots of coding, above I just said:\n",
    "* The link to the webpage.\n",
    "* The position of the header.\n",
    "* The external library that will be used to extract the text (_flavor_).\n",
    "* The attributes of the table."
   ]
  },
  {
   "cell_type": "markdown",
   "metadata": {},
   "source": [
    "DFwiki is not a data frame:"
   ]
  },
  {
   "cell_type": "code",
   "execution_count": null,
   "metadata": {},
   "outputs": [],
   "source": [
    "type(DFwiki)"
   ]
  },
  {
   "cell_type": "markdown",
   "metadata": {},
   "source": [
    "The command **read_html** returned all the tables with the attribute _wikitable_. Since there may be more than one, a **list** of tables is returned. Lists are the most flexible container offered by Python:"
   ]
  },
  {
   "cell_type": "code",
   "execution_count": null,
   "metadata": {},
   "outputs": [],
   "source": [
    "aList=[1,2,'a','*']\n",
    "aList"
   ]
  },
  {
   "cell_type": "markdown",
   "metadata": {},
   "source": [
    "Lists have several interesting functions and properties:"
   ]
  },
  {
   "cell_type": "code",
   "execution_count": null,
   "metadata": {},
   "outputs": [],
   "source": [
    "# amount of elements\n",
    "len(aList)"
   ]
  },
  {
   "cell_type": "code",
   "execution_count": null,
   "metadata": {},
   "outputs": [],
   "source": [
    "# get element\n",
    "aList[2]"
   ]
  },
  {
   "cell_type": "code",
   "execution_count": null,
   "metadata": {},
   "outputs": [],
   "source": [
    "# replace\n",
    "aList[3]=\"**\"\n",
    "aList"
   ]
  },
  {
   "cell_type": "code",
   "execution_count": null,
   "metadata": {},
   "outputs": [],
   "source": [
    "# add element\n",
    "aList.append(4)\n",
    "aList"
   ]
  },
  {
   "cell_type": "code",
   "execution_count": null,
   "metadata": {},
   "outputs": [],
   "source": [
    "# erase element\n",
    "del aList[0]\n",
    "aList"
   ]
  },
  {
   "cell_type": "markdown",
   "metadata": {},
   "source": [
    "And the nicest of all: **list comprehension**"
   ]
  },
  {
   "cell_type": "code",
   "execution_count": null,
   "metadata": {},
   "outputs": [],
   "source": [
    "# list of the squared first five positive integers (0 to 4)\n",
    "easyList_1=[x**2 for x in range(5)]\n",
    "easyList_1"
   ]
  },
  {
   "cell_type": "code",
   "execution_count": null,
   "metadata": {},
   "outputs": [],
   "source": [
    "# list of multiples of 5 smaller than 50\n",
    "easyList_2=[x for x in range(50) if x%5==0 and x>0]\n",
    "easyList_2"
   ]
  },
  {
   "cell_type": "code",
   "execution_count": null,
   "metadata": {},
   "outputs": [],
   "source": [
    "someNames=[\"Peter\",\"John\",\"Rob\", \"Ron\", \"Mike\"]\n",
    "easyList_3=[x for x in someNames if not x.startswith('R')]\n",
    "easyList_3"
   ]
  },
  {
   "cell_type": "code",
   "execution_count": null,
   "metadata": {},
   "outputs": [],
   "source": [
    "import math\n",
    "\n",
    "someNumbers=[-1,4,6,-3]\n",
    "easyList_4a=[math.pow(x,2) for x in someNumbers ]\n",
    "easyList_4a"
   ]
  },
  {
   "cell_type": "code",
   "execution_count": null,
   "metadata": {},
   "outputs": [],
   "source": [
    "# when using'else' write 'for' at the end\n",
    "easyList_4b=[math.sqrt(x) if x >=0 else None for x in someNumbers]\n",
    "easyList_4b"
   ]
  },
  {
   "cell_type": "markdown",
   "metadata": {},
   "source": [
    "Coming back to our example from wikipedia, we first should check how many DFs we have:"
   ]
  },
  {
   "cell_type": "code",
   "execution_count": null,
   "metadata": {},
   "outputs": [],
   "source": [
    "len(DFwiki)"
   ]
  },
  {
   "cell_type": "markdown",
   "metadata": {},
   "source": [
    "Is ours the first one?"
   ]
  },
  {
   "cell_type": "code",
   "execution_count": null,
   "metadata": {},
   "outputs": [],
   "source": [
    "# remember that Python starts counting in ZERO!\n",
    "DFwiki[0]"
   ]
  },
  {
   "cell_type": "markdown",
   "metadata": {},
   "source": [
    "or the last one?"
   ]
  },
  {
   "cell_type": "code",
   "execution_count": null,
   "metadata": {},
   "outputs": [],
   "source": [
    "DFwiki[4]"
   ]
  },
  {
   "cell_type": "markdown",
   "metadata": {},
   "source": [
    "Tables scrapped will bring different cleaning challenges. \n",
    "\n",
    "[home](#home)\n",
    "____\n",
    "<a id='part5'></a>\n",
    "\n",
    "## 5. Social media data"
   ]
  },
  {
   "cell_type": "markdown",
   "metadata": {},
   "source": [
    "Social media offer APIs too that allow you to get _some_ data. To use this service, you need to register as a developer. For our Twitter example, you should go [here](https://developer.twitter.com/en).\n",
    "Once you are a confirmed developer, Twitter, Facebook and others will allow you to get _some_ of their data (the more you pay the more you get). \n",
    "\n",
    "Let's pay attention to Twitter. First, check if you have **tweepy**:"
   ]
  },
  {
   "cell_type": "code",
   "execution_count": null,
   "metadata": {},
   "outputs": [],
   "source": [
    "!pip show tweepy"
   ]
  },
  {
   "cell_type": "code",
   "execution_count": null,
   "metadata": {},
   "outputs": [],
   "source": [
    "#!pip install tweepy"
   ]
  },
  {
   "cell_type": "markdown",
   "metadata": {},
   "source": [
    "Tweepy is the key library, but you may need several other libraries according to your goals."
   ]
  },
  {
   "cell_type": "code",
   "execution_count": null,
   "metadata": {},
   "outputs": [],
   "source": [
    "import tweepy"
   ]
  },
  {
   "cell_type": "markdown",
   "metadata": {},
   "source": [
    "Let me introduce myself to Twitter:"
   ]
  },
  {
   "cell_type": "code",
   "execution_count": null,
   "metadata": {},
   "outputs": [],
   "source": [
    "# credentials from a file\n",
    "import json\n",
    "keysAPI = json.load(open('APIkeys.txt','r'))\n",
    "\n",
    "# getting info from the file\n",
    "api_key = keysAPI['api_key']\n",
    "api_key_secret = keysAPI['api_key_secret']\n",
    "access_token = keysAPI['access_token']\n",
    "access_token_secret = keysAPI['access_token_secret']\n",
    "\n",
    "# introducing myself:\n",
    "auth = tweepy.OAuthHandler(api_key, api_key_secret)\n",
    "auth.set_access_token(access_token, access_token_secret)\n",
    "api=tweepy.API(auth, wait_on_rate_limit=True,timeout=60,\n",
    "               parser=tweepy.parsers.JSONParser())"
   ]
  },
  {
   "cell_type": "markdown",
   "metadata": {},
   "source": [
    "Let me ask for some tweets from a particular user:"
   ]
  },
  {
   "cell_type": "code",
   "execution_count": null,
   "metadata": {},
   "outputs": [],
   "source": [
    "who='@WAStateGov'\n",
    "howMany=100\n",
    "gottenTweets = api.user_timeline(screen_name = who, \n",
    "                                 count = howMany, \n",
    "                                 include_rts = True,\n",
    "                                 tweet_mode=\"extended\")"
   ]
  },
  {
   "cell_type": "markdown",
   "metadata": {},
   "source": [
    "You should always check what you have:"
   ]
  },
  {
   "cell_type": "code",
   "execution_count": null,
   "metadata": {},
   "outputs": [],
   "source": [
    "type(gottenTweets)"
   ]
  },
  {
   "cell_type": "markdown",
   "metadata": {},
   "source": [
    "I have a list, then I could ask how many tweets I got (just to confirm):"
   ]
  },
  {
   "cell_type": "code",
   "execution_count": null,
   "metadata": {},
   "outputs": [],
   "source": [
    "len(gottenTweets)"
   ]
  },
  {
   "cell_type": "markdown",
   "metadata": {},
   "source": [
    "Let me view what I have in the first tweet:"
   ]
  },
  {
   "cell_type": "code",
   "execution_count": null,
   "metadata": {},
   "outputs": [],
   "source": [
    "gottenTweets[0]"
   ]
  },
  {
   "cell_type": "markdown",
   "metadata": {},
   "source": [
    "It will take some time to become familiar with a [tweet object structure](https://developer.twitter.com/en/docs/twitter-api/data-dictionary/object-model/tweet). Let's find out how each tweet is currently stored:"
   ]
  },
  {
   "cell_type": "code",
   "execution_count": null,
   "metadata": {},
   "outputs": [],
   "source": [
    "type(gottenTweets[0])"
   ]
  },
  {
   "cell_type": "markdown",
   "metadata": {},
   "source": [
    "Now you know that each tweet is stored as a **dictionary**. \n",
    "Dictionaries or **dicts** are very flexible and important structures in Python. Let me show you a simple one: "
   ]
  },
  {
   "cell_type": "code",
   "execution_count": null,
   "metadata": {},
   "outputs": [],
   "source": [
    "aDictExample={\"name\":\"Peter\",\n",
    "             \"speaks\":['French', 'Spanish'],\n",
    "             'country':'Morocco'}\n",
    "\n",
    "# then\n",
    "aDictExample"
   ]
  },
  {
   "cell_type": "markdown",
   "metadata": {},
   "source": [
    "Dicts are a basic structure in Python, and one that makes Python very appealing. Each element in Python can be accessed via **keys**. Our _aDictExample_ has these keys:"
   ]
  },
  {
   "cell_type": "code",
   "execution_count": null,
   "metadata": {},
   "outputs": [],
   "source": [
    "aDictExample.keys()"
   ]
  },
  {
   "cell_type": "markdown",
   "metadata": {},
   "source": [
    "So, you access the info like this:"
   ]
  },
  {
   "cell_type": "code",
   "execution_count": null,
   "metadata": {},
   "outputs": [],
   "source": [
    "aDictExample['speaks']"
   ]
  },
  {
   "cell_type": "markdown",
   "metadata": {},
   "source": [
    "Then, let's see our **gottenTweets** keys:"
   ]
  },
  {
   "cell_type": "code",
   "execution_count": null,
   "metadata": {},
   "outputs": [],
   "source": [
    "gottenTweets[0].keys()"
   ]
  },
  {
   "cell_type": "code",
   "execution_count": null,
   "metadata": {},
   "outputs": [],
   "source": [
    "# then:\n",
    "gottenTweets[0]['created_at']"
   ]
  },
  {
   "cell_type": "code",
   "execution_count": null,
   "metadata": {},
   "outputs": [],
   "source": [
    "gottenTweets[1]['created_at']"
   ]
  },
  {
   "cell_type": "markdown",
   "metadata": {},
   "source": [
    "We could prepare a data frame using the current tweets, first let's prepare a list of each of fields we want:"
   ]
  },
  {
   "cell_type": "code",
   "execution_count": null,
   "metadata": {},
   "outputs": [],
   "source": [
    "# list comprehesions\n",
    "dates=[t['created_at'] for t in gottenTweets]\n",
    "ids=[t['id'] for t in gottenTweets]\n",
    "rts=[t['retweet_count'] for t in gottenTweets]\n",
    "likes=[t['favorite_count'] for t in gottenTweets]\n",
    "text=[t['full_text'] for t in gottenTweets]\n",
    "rtw=[t['full_text'].startswith('RT') for t in gottenTweets]"
   ]
  },
  {
   "cell_type": "markdown",
   "metadata": {},
   "source": [
    "Each of the objects created is a list (dates, ids,rts,likes and text). Let me show you one:"
   ]
  },
  {
   "cell_type": "code",
   "execution_count": null,
   "metadata": {},
   "outputs": [],
   "source": [
    "rtw"
   ]
  },
  {
   "cell_type": "markdown",
   "metadata": {},
   "source": [
    "Let me create a data frame with those lists:"
   ]
  },
  {
   "cell_type": "code",
   "execution_count": null,
   "metadata": {},
   "outputs": [],
   "source": [
    "dictOfColsAsLists={'dates':dates,'ids':ids,'rts':rts,\n",
    "                   'likes':likes,'text':text,'rtw':rtw}\n",
    "tweetsAsDF=pd.DataFrame(dictOfColsAsLists)"
   ]
  },
  {
   "cell_type": "code",
   "execution_count": null,
   "metadata": {},
   "outputs": [],
   "source": [
    "tweetsAsDF"
   ]
  },
  {
   "cell_type": "markdown",
   "metadata": {},
   "source": [
    "You can know how many are retweets or not:"
   ]
  },
  {
   "cell_type": "code",
   "execution_count": null,
   "metadata": {},
   "outputs": [],
   "source": [
    "tweetsAsDF[tweetsAsDF['rtw']==False].shape"
   ]
  },
  {
   "cell_type": "code",
   "execution_count": null,
   "metadata": {},
   "outputs": [],
   "source": [
    "tweetsAsDF[tweetsAsDF['rtw']==True].shape"
   ]
  },
  {
   "cell_type": "markdown",
   "metadata": {},
   "source": [
    "[home](#home)"
   ]
  }
 ],
 "metadata": {
  "anaconda-cloud": {
   "attach-environment": true,
   "summary": "test"
  },
  "hide_input": false,
  "kernelspec": {
   "display_name": "Python 3 (ipykernel)",
   "language": "python",
   "name": "python3"
  },
  "language_info": {
   "codemirror_mode": {
    "name": "ipython",
    "version": 3
   },
   "file_extension": ".py",
   "mimetype": "text/x-python",
   "name": "python",
   "nbconvert_exporter": "python",
   "pygments_lexer": "ipython3",
   "version": "3.7.12"
  }
 },
 "nbformat": 4,
 "nbformat_minor": 1
}
